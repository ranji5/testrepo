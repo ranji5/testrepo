{
 "cells": [
  {
   "cell_type": "markdown",
   "id": "8df7eeae",
   "metadata": {},
   "source": [
    "# Data Science Tools and Ecosystem"
   ]
  },
  {
   "attachments": {},
   "cell_type": "markdown",
   "id": "3933a7c2",
   "metadata": {},
   "source": [
    "In this notebook, Data Science Tools and Ecosystem are summarized."
   ]
  },
  {
   "cell_type": "markdown",
   "id": "705edd9d",
   "metadata": {},
   "source": [
    "# Objectives:\n",
    "\n",
    "- List popular languages for Data Science.\n",
    "- Introduce common libraries used in Data Science.\n",
    "- Demonstrate arithmetic expression evaluation in Python.\n",
    "- Convert minutes to hours using Python expressions."
   ]
  },
  {
   "cell_type": "markdown",
   "id": "f2fb2573",
   "metadata": {},
   "source": [
    "Some of the popular languages that Data Scientists use are:\n",
    "\n",
    "1. Python\n",
    "2. R\n",
    "3. SQL"
   ]
  },
  {
   "cell_type": "markdown",
   "id": "75f9a158",
   "metadata": {},
   "source": [
    "Some of the commonly used libraries used by Data Scientists include:\n",
    "\n",
    "1. NumPy\n",
    "2. Pandas\n",
    "3. Matplotlib"
   ]
  },
  {
   "cell_type": "markdown",
   "id": "f7e519e2",
   "metadata": {},
   "source": [
    "| Data Science Tools |\n",
    "|---------------------|\n",
    "| Jupyter Notebook    |\n",
    "| RStudio             |\n",
    "| Visual Studio Code  |"
   ]
  },
  {
   "cell_type": "markdown",
   "id": "a43cf32c",
   "metadata": {},
   "source": [
    "### Below are a few examples of evaluating arithmetic expressions in Python."
   ]
  },
  {
   "cell_type": "code",
   "execution_count": 1,
   "id": "2098b6b9",
   "metadata": {},
   "outputs": [
    {
     "name": "stdout",
     "output_type": "stream",
     "text": [
      "17\n"
     ]
    }
   ],
   "source": [
    "result = (3*4) + 5\n",
    "print(result)"
   ]
  },
  {
   "cell_type": "code",
   "execution_count": 2,
   "id": "55a888ba",
   "metadata": {},
   "outputs": [
    {
     "name": "stdout",
     "output_type": "stream",
     "text": [
      "3.3333333333333335\n"
     ]
    }
   ],
   "source": [
    "hours = 200 / 60\n",
    "print(hours)"
   ]
  },
  {
   "cell_type": "markdown",
   "id": "6085ea3a",
   "metadata": {},
   "source": [
    "## Author\n",
    "\n",
    "Satheesh"
   ]
  },
  {
   "cell_type": "code",
   "execution_count": null,
   "id": "2b689598",
   "metadata": {},
   "outputs": [],
   "source": []
  }
 ],
 "metadata": {
  "kernelspec": {
   "display_name": "Python 3 (ipykernel)",
   "language": "python",
   "name": "python3"
  },
  "language_info": {
   "codemirror_mode": {
    "name": "ipython",
    "version": 3
   },
   "file_extension": ".py",
   "mimetype": "text/x-python",
   "name": "python",
   "nbconvert_exporter": "python",
   "pygments_lexer": "ipython3",
   "version": "3.11.5"
  }
 },
 "nbformat": 4,
 "nbformat_minor": 5
}
